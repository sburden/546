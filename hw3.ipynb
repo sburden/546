{
 "cells": [
  {
   "cell_type": "markdown",
   "metadata": {},
   "source": [
    "# 546 (hybrid systems) hw3\n",
    "\n",
    "You are welcome (and encouraged) to work with others, but each individual must submit their own writeup.\n",
    "\n",
    "You are welcome to use analytical and numerical computational tools; if you do, include the **commented** sourcecode in your writeup (e.g. the .ipynb file).\n",
    "\n",
    "You are welcome to consult research articles and other materials; if you do, include a full citation in your writeup (e.g. the .ipynb file) and upload a .pdf of the article to Canvas alongside your homework submission."
   ]
  },
  {
   "cell_type": "markdown",
   "metadata": {},
   "source": [
    "# paper presentation proposal\n",
    "\n",
    "a. Choose a paper from the research literature that you will read, understand, and present sometime in weeks 6--10 of the quarter.  Explain why you chose this paper.  Include a full citation here, and upload a .pdf of the article to Canvas alongside your homework submission.\n",
    "\n",
    "b. Is the paper primarily *theoretical*, *computational*, *both*, or *other (explain)*?\n",
    "\n",
    "c. What aspect(s) of this paper will you aim to understand? *(Refer to the Paper presentation section of the Syllabus for presentation requirements and guidelines.)*\n",
    "\n",
    "d. How do you plan to present your understanding to the class?  (e.g. walk through an analytical example on the whiteboard, display visualizations from numerical simulations, etc.)"
   ]
  }
 ],
 "metadata": {
  "anaconda-cloud": {},
  "kernelspec": {
   "display_name": "Python 2",
   "language": "python",
   "name": "python2"
  },
  "language_info": {
   "codemirror_mode": {
    "name": "ipython",
    "version": 2
   },
   "file_extension": ".py",
   "mimetype": "text/x-python",
   "name": "python",
   "nbconvert_exporter": "python",
   "pygments_lexer": "ipython2",
   "version": "2.7.10"
  }
 },
 "nbformat": 4,
 "nbformat_minor": 0
}
