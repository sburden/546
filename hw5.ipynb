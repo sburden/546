{
 "cells": [
  {
   "cell_type": "markdown",
   "metadata": {},
   "source": [
    "# 546 (hybrid systems) hw4\n",
    "\n",
    "You are welcome (and encouraged) to work with others, but each individual must submit their own writeup.\n",
    "\n",
    "You are welcome to use analytical and numerical computational tools; if you do, include the **commented** sourcecode in your writeup (e.g. the .ipynb file).\n",
    "\n",
    "You are welcome to consult research articles and other materials; if you do, include a full citation in your writeup (e.g. the .ipynb file) and upload a .pdf of the article to Canvas alongside your homework submission."
   ]
  },
  {
   "cell_type": "markdown",
   "metadata": {},
   "source": [
    "# research project proposal\n",
    "\n",
    "a. Specify a hybrid systems research problem that you will try to solve by finals week; try to be as clear and terse as possible in your problem statement.  \n",
    "\n",
    "b. Explain why you chose this problem, and the status of the state-of-the-art approaches to this problem in the hybrid systems literature; include full citation(s) here, and upload .pdf(s) of the article(s) to Canvas alongside your homework submission.  \n",
    "\n",
    "c. What aspect of this problem will you try to solve?  (If this is a group project, specify your group members, and be clear about the division of labor.)\n",
    "\n",
    "d. What will be your approach to solving this problem?\n",
    "\n",
    "e. What will you do if your proposed approach fails?  (i.e. do you have a backup plan?)"
   ]
  }
 ],
 "metadata": {
  "anaconda-cloud": {},
  "kernelspec": {
   "display_name": "Python 2",
   "language": "python",
   "name": "python2"
  },
  "language_info": {
   "codemirror_mode": {
    "name": "ipython",
    "version": 2
   },
   "file_extension": ".py",
   "mimetype": "text/x-python",
   "name": "python",
   "nbconvert_exporter": "python",
   "pygments_lexer": "ipython2",
   "version": "2.7.10"
  }
 },
 "nbformat": 4,
 "nbformat_minor": 0
}
